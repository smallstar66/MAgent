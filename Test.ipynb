{
 "cells": [
  {
   "metadata": {},
   "cell_type": "markdown",
   "source": [
    "LANGSMITH_API_KEY : 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\n",
    "\n",
    "TOGETHER_API_KEY : 2dde51635fbb84097198ddb134f5b04d580a467bc973e56ee9b340759336cb97\n",
    "\n"
   ],
   "id": "9fab0e2ca32e96a9"
  },
  {
   "metadata": {},
   "cell_type": "code",
   "outputs": [],
   "execution_count": null,
   "source": [
    "import os\n",
    "\n",
    "os.environ[\"LANGCHAIN_TRACING_V2\"] = \"true\" # 启用 LangChain V2 跟踪，可以在 https://smith.langchain.com/中查看跟踪数据\n",
    "os.environ[\"TOGETHER_API_KEY\"] = '2dde51635fbb84097198ddb134f5b04d580a467bc973e56ee9b340759336cb97' # 模型api key\n",
    "os.environ[\"LANGSMITH_API_KEY\"] = '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' # langsmith api key\n",
    "# os.environ[\"OPENAI_API_KEY\"] = ''\n"
   ],
   "id": "b2b544527d822be0"
  },
  {
   "metadata": {},
   "cell_type": "code",
   "outputs": [],
   "execution_count": null,
   "source": [
    "from langchain_openai import ChatOpenAI\n",
    "\n",
    "model = ChatOpenAI(\n",
    "    base_url=\"https://api.together.xyz/v1\",\n",
    "    api_key=os.environ[\"TOGETHER_API_KEY\"],\n",
    "    model=\"mistralai/Mixtral-8x7B-Instruct-v0.1\",\n",
    ")"
   ],
   "id": "ad8c584e990459ed"
  },
  {
   "metadata": {},
   "cell_type": "markdown",
   "source": "# -----------",
   "id": "febc7a8b667f1dee"
  },
  {
   "metadata": {
    "ExecuteTime": {
     "end_time": "2025-07-29T03:15:24.714195Z",
     "start_time": "2025-07-29T03:15:22.845241Z"
    }
   },
   "cell_type": "code",
   "source": [
    "from langchain_core.messages import HumanMessage, SystemMessage\n",
    "\n",
    "messages = [\n",
    "    SystemMessage(content=\"Translate the following from English into Chinese\"),\n",
    "    HumanMessage(content=\"hello world!\"),\n",
    "]\n",
    "\n",
    "result = model.invoke(messages)\n",
    "result"
   ],
   "id": "5643513abaad8a22",
   "outputs": [
    {
     "data": {
      "text/plain": [
       "AIMessage(content=' \"hello world!\" in Chinese is \"你好，世界！\" (nǐ hǎo, shìjiè!)\\n\\nThe Chinese language has many variations and dialects, but the most commonly used written form is Simplified Chinese, which is based on the Mandarin dialect. The characters I provided are Simplified Chinese characters.\\n\\nIn Traditional Chinese, which is used in Taiwan and Hong Kong, the same phrase would be written as \"你好，世界！\" (nǐ hǎo, shìjiè!) with the same pronunciation.\\n\\nI hope this helps! Let me know if you have any other questions.', additional_kwargs={'refusal': None}, response_metadata={'token_usage': {'completion_tokens': 140, 'prompt_tokens': 21, 'total_tokens': 161, 'completion_tokens_details': None, 'prompt_tokens_details': None}, 'model_name': 'mistralai/Mixtral-8x7B-Instruct-v0.1', 'system_fingerprint': None, 'id': 'o4xfthb-62bZhn-96697392cc359e6b', 'service_tier': None, 'finish_reason': 'stop', 'logprobs': None}, id='run--416c9ce7-22f3-4288-8a81-240b3eacf620-0', usage_metadata={'input_tokens': 21, 'output_tokens': 140, 'total_tokens': 161, 'input_token_details': {}, 'output_token_details': {}})"
      ]
     },
     "execution_count": 19,
     "metadata": {},
     "output_type": "execute_result"
    }
   ],
   "execution_count": 19
  },
  {
   "cell_type": "markdown",
   "id": "49e89147",
   "metadata": {},
   "source": [
    "# 结果解析方式\n",
    "- StrOutputParser()：提取字符串\n",
    "- JsonOutputParser()：解析 JSON 输出\n",
    "- .content：获取原始输出内容\n"
   ]
  },
  {
   "cell_type": "code",
   "id": "d7f12754f891ef52",
   "metadata": {
    "ExecuteTime": {
     "end_time": "2025-07-29T02:16:21.180856Z",
     "start_time": "2025-07-29T02:16:21.163790Z"
    }
   },
   "source": [
    "# 方式1 解析器\n",
    "from langchain_core.output_parsers import StrOutputParser\n",
    "\n",
    "parser = StrOutputParser()"
   ],
   "outputs": [],
   "execution_count": 4
  },
  {
   "cell_type": "code",
   "id": "be7909a2bb19ab03",
   "metadata": {
    "ExecuteTime": {
     "end_time": "2025-07-29T02:16:21.816175Z",
     "start_time": "2025-07-29T02:16:21.732970Z"
    }
   },
   "source": [
    "parser.invoke(result)"
   ],
   "outputs": [
    {
     "data": {
      "text/plain": [
       "' \"Hello World!\" in Chinese is \"你好，世界!\" which is pronounced as \"Nǐ hǎo, shìjiè!\" in Mandarin. Here\\'s the breakdown of the sentence:\\n\\n* \"Nǐ\" (你) means \"you\"\\n* \"Hǎo\" (好) means \"good\" or \"hello\" in this context\\n* \"Shìjiè\" (世界) means \"world\"\\n\\nSo, when you put it together, you get \"Hello, World!\" in Chinese.'"
      ]
     },
     "execution_count": 5,
     "metadata": {},
     "output_type": "execute_result"
    }
   ],
   "execution_count": 5
  },
  {
   "cell_type": "code",
   "id": "ce2d468d990e80d8",
   "metadata": {
    "ExecuteTime": {
     "end_time": "2025-07-29T02:16:22.359944Z",
     "start_time": "2025-07-29T02:16:22.349819Z"
    }
   },
   "source": [
    "# 方式2 content属性获取结果str\n",
    "result.content"
   ],
   "outputs": [
    {
     "data": {
      "text/plain": [
       "' \"Hello World!\" in Chinese is \"你好，世界!\" which is pronounced as \"Nǐ hǎo, shìjiè!\" in Mandarin. Here\\'s the breakdown of the sentence:\\n\\n* \"Nǐ\" (你) means \"you\"\\n* \"Hǎo\" (好) means \"good\" or \"hello\" in this context\\n* \"Shìjiè\" (世界) means \"world\"\\n\\nSo, when you put it together, you get \"Hello, World!\" in Chinese.'"
      ]
     },
     "execution_count": 6,
     "metadata": {},
     "output_type": "execute_result"
    }
   ],
   "execution_count": 6
  },
  {
   "cell_type": "code",
   "execution_count": null,
   "id": "6b9a5cf3",
   "metadata": {},
   "outputs": [
    {
     "name": "stdout",
     "output_type": "stream",
     "text": [
      " \"hello world!\" in Chinese is \"你好，世界！\" (nǐ hǎo, shìjiè!)\n",
      "\n",
      "Please note that the tone marks are not displayed correctly in some text editors or devices. The pinyin for the Chinese characters is provided to help with the pronunciation.\n"
     ]
    }
   ],
   "source": [
    "# 管道链接，将模型和解析器链接起来，逐个调用\n",
    "chain = model | parser\n",
    "print(chain.invoke(messages))"
   ]
  },
  {
   "metadata": {},
   "cell_type": "code",
   "outputs": [],
   "execution_count": null,
   "source": [
    "\n",
    "# StrOutputParser()：提取字符串\n",
    "# JsonOutputParser()：解析 JSON 输出\n",
    "# PydanticOutputParser()：转换为结构化数据对象\n",
    "# RetryWithErrorOutputParser()：支持错误重试解析\n",
    "\n",
    "from langchain_core.output_parsers import StrOutputParser, JsonOutputParser, PydanticOutputParser\n",
    "\n",
    "stroutparser, jsonoutparser = StrOutputParser(), JsonOutputParser()\n",
    "\n",
    "print(result.content, end='\\n')\n",
    "print(stroutparser.invoke(result), end='\\n')\n",
    "print(jsonoutparser.invoke(result), end='\\n')\n"
   ],
   "id": "4f9eaa6fd178733b"
  },
  {
   "cell_type": "markdown",
   "id": "5316f81d",
   "metadata": {},
   "source": [
    "# PromptTemplates 示例"
   ]
  },
  {
   "metadata": {
    "ExecuteTime": {
     "end_time": "2025-07-29T02:25:33.360105Z",
     "start_time": "2025-07-29T02:25:33.340070Z"
    }
   },
   "cell_type": "code",
   "source": [
    "from langchain_core.prompts import ChatPromptTemplate\n",
    "\n",
    "system_template = \"将以下内容翻译为{language}，对话采用中文:\"\n",
    "\n",
    "prompt_template = ChatPromptTemplate.from_messages(\n",
    "    [(\"system\", system_template), (\"user\", \"{text}\")]\n",
    ")\n",
    "prompt_template"
   ],
   "id": "970f2bb0712173bd",
   "outputs": [
    {
     "data": {
      "text/plain": [
       "ChatPromptTemplate(input_variables=['language', 'text'], input_types={}, partial_variables={}, messages=[SystemMessagePromptTemplate(prompt=PromptTemplate(input_variables=['language'], input_types={}, partial_variables={}, template='将以下内容翻译为{language}，对话采用中文:'), additional_kwargs={}), HumanMessagePromptTemplate(prompt=PromptTemplate(input_variables=['text'], input_types={}, partial_variables={}, template='{text}'), additional_kwargs={})])"
      ]
     },
     "execution_count": 15,
     "metadata": {},
     "output_type": "execute_result"
    }
   ],
   "execution_count": 15
  },
  {
   "metadata": {
    "ExecuteTime": {
     "end_time": "2025-07-29T02:25:33.834137Z",
     "start_time": "2025-07-29T02:25:33.815331Z"
    }
   },
   "cell_type": "code",
   "source": [
    "prompt_result = prompt_template.format_prompt(text=\"你好，世界！\", language=\"Japanese\")\n",
    "prompt_result"
   ],
   "id": "1351fdbbd2c8bfe8",
   "outputs": [
    {
     "data": {
      "text/plain": [
       "ChatPromptValue(messages=[SystemMessage(content='将以下内容翻译为Japanese，对话采用中文:', additional_kwargs={}, response_metadata={}), HumanMessage(content='你好，世界！', additional_kwargs={}, response_metadata={})])"
      ]
     },
     "execution_count": 16,
     "metadata": {},
     "output_type": "execute_result"
    }
   ],
   "execution_count": 16
  },
  {
   "metadata": {
    "ExecuteTime": {
     "end_time": "2025-07-29T02:25:34.295263Z",
     "start_time": "2025-07-29T02:25:34.277043Z"
    }
   },
   "cell_type": "code",
   "source": "prompt_result.to_messages()",
   "id": "12969a554f846f90",
   "outputs": [
    {
     "data": {
      "text/plain": [
       "[SystemMessage(content='将以下内容翻译为Japanese，对话采用中文:', additional_kwargs={}, response_metadata={}),\n",
       " HumanMessage(content='你好，世界！', additional_kwargs={}, response_metadata={})]"
      ]
     },
     "execution_count": 17,
     "metadata": {},
     "output_type": "execute_result"
    }
   ],
   "execution_count": 17
  },
  {
   "metadata": {
    "ExecuteTime": {
     "end_time": "2025-07-29T02:25:37.829912Z",
     "start_time": "2025-07-29T02:25:34.775209Z"
    }
   },
   "cell_type": "code",
   "source": [
    "chain = prompt_template | model | parser\n",
    "print(chain.invoke({'text': \"你好，世界！\", 'language' : \"Japanese\"}))"
   ],
   "id": "f00b107a57d20198",
   "outputs": [
    {
     "name": "stdout",
     "output_type": "stream",
     "text": [
      " こんにちは、sekai!\n",
      "\n",
      "Note: In Japanese, \"sekai\" means \"world\", but it is a common and grammatically correct way to say \"world\" in this context in Japanese. The word \"sekai\" itself is often used in Japanese greetings, songs, and sayings, similar to how \"world\" is used in the English greeting \"Hello, world!\".\n"
     ]
    }
   ],
   "execution_count": 18
  },
  {
   "metadata": {},
   "cell_type": "markdown",
   "source": "# 聊天机器人",
   "id": "b86738b2af397635"
  },
  {
   "metadata": {
    "ExecuteTime": {
     "end_time": "2025-07-29T03:15:37.476842Z",
     "start_time": "2025-07-29T03:15:36.271819Z"
    }
   },
   "cell_type": "code",
   "source": [
    "from langchain_core.messages import HumanMessage\n",
    "\n",
    "model.invoke([HumanMessage(content=\"Hi! I'm Bob\")]).content"
   ],
   "id": "c2f152f602afd372",
   "outputs": [
    {
     "data": {
      "text/plain": [
       "\" Hello Bob! It's nice to meet you. How can I assist you today? If you have any questions or need help with something, feel free to ask. I'm here to help!\""
      ]
     },
     "execution_count": 21,
     "metadata": {},
     "output_type": "execute_result"
    }
   ],
   "execution_count": 21
  },
  {
   "metadata": {
    "ExecuteTime": {
     "end_time": "2025-07-29T03:15:54.445231Z",
     "start_time": "2025-07-29T03:15:52.676397Z"
    }
   },
   "cell_type": "code",
   "source": "model.invoke([HumanMessage(content=\"What's my name?\")]).content",
   "id": "634bc6cbe9189e31",
   "outputs": [
    {
     "data": {
      "text/plain": [
       "\" I'm unable to determine your name as I don't have any personal data about you, unless you're willing to share it with me. However, I'm here to provide information and answer questions to the best of my ability.\""
      ]
     },
     "execution_count": 22,
     "metadata": {},
     "output_type": "execute_result"
    }
   ],
   "execution_count": 22
  },
  {
   "metadata": {},
   "cell_type": "code",
   "outputs": [],
   "execution_count": null,
   "source": "",
   "id": "d246560630d437ea"
  },
  {
   "metadata": {},
   "cell_type": "code",
   "outputs": [],
   "execution_count": null,
   "source": "",
   "id": "209880ced8bda934"
  },
  {
   "metadata": {},
   "cell_type": "code",
   "outputs": [],
   "execution_count": null,
   "source": "",
   "id": "a5a4fd0b0e11e4b1"
  },
  {
   "metadata": {},
   "cell_type": "code",
   "outputs": [],
   "execution_count": null,
   "source": "",
   "id": "c9149cad6622a53e"
  },
  {
   "metadata": {},
   "cell_type": "code",
   "outputs": [],
   "execution_count": null,
   "source": "",
   "id": "bc8e66e999f2c7cc"
  },
  {
   "metadata": {},
   "cell_type": "markdown",
   "source": "# Test",
   "id": "8de9a736851ad20b"
  },
  {
   "metadata": {
    "ExecuteTime": {
     "end_time": "2025-07-29T09:27:28.098179Z",
     "start_time": "2025-07-29T09:27:28.091007Z"
    }
   },
   "cell_type": "code",
   "source": [
    "l = [\n",
    "  \"\\r\\n\",\n",
    "  \"\\r\\n      \\r\\n          \",\n",
    "  \"\\r\\n      \\r\\n \",\n",
    "  \"\\r\\n      \\r\\n      发布于 2025年07月29日 08:42   更新于 2025年07月29日 17:06\\r\\n      \\r\\n      \",\n",
    "  \"\\r\\n      \\r\\n      \\r\\n      \",\n",
    "  \"\\r\\n      \\r\\n      \",\n",
    "  \"\\r\\n     \"\n",
    "]"
   ],
   "id": "1345dbaf4d44dec3",
   "outputs": [],
   "execution_count": 2
  },
  {
   "metadata": {
    "ExecuteTime": {
     "end_time": "2025-07-29T09:27:28.980867Z",
     "start_time": "2025-07-29T09:27:28.969813Z"
    }
   },
   "cell_type": "code",
   "source": [
    "pub_info = next((t.strip() for t in l if \"发布于\" in t), None)\n",
    "pub_info"
   ],
   "id": "8d9befc2bbfb877f",
   "outputs": [
    {
     "data": {
      "text/plain": [
       "'发布于 2025年07月29日 08:42\\xa0\\xa0\\xa0更新于 2025年07月29日 17:06'"
      ]
     },
     "execution_count": 3,
     "metadata": {},
     "output_type": "execute_result"
    }
   ],
   "execution_count": 3
  },
  {
   "metadata": {
    "ExecuteTime": {
     "end_time": "2025-07-29T09:48:19.324415Z",
     "start_time": "2025-07-29T09:48:19.306467Z"
    }
   },
   "cell_type": "code",
   "source": [
    "import re\n",
    "match = re.search(r\"\\d{4}年\\d{2}月\\d{2}日 \\d{2}:\\d{2}\", pub_info or \"\")\n",
    "match.group()"
   ],
   "id": "f9a88392e317dfdf",
   "outputs": [
    {
     "data": {
      "text/plain": [
       "'2025年07月29日 08:42'"
      ]
     },
     "execution_count": 11,
     "metadata": {},
     "output_type": "execute_result"
    }
   ],
   "execution_count": 11
  },
  {
   "metadata": {
    "ExecuteTime": {
     "end_time": "2025-07-29T09:48:30.216222Z",
     "start_time": "2025-07-29T09:48:30.198466Z"
    }
   },
   "cell_type": "code",
   "source": [
    "import re\n",
    "\n",
    "# 提取发布时间、更新时间（如果有）\n",
    "pub_time = None\n",
    "update_time = None\n",
    "\n",
    "match = re.search(r\"发布于 (\\d{4}年\\d{2}月\\d{2}日 \\d{2}:\\d{2})\", pub_info or \"\")\n",
    "if match:\n",
    "    pub_time = match.group()\n",
    "\n",
    "match = re.search(r\"更新于 (\\d{4}年\\d{2}月\\d{2}日 \\d{2}:\\d{2})\", pub_info or \"\")\n",
    "if match:\n",
    "    update_time = match.group()"
   ],
   "id": "a959e3ea4ba1489f",
   "outputs": [],
   "execution_count": 12
  },
  {
   "metadata": {
    "ExecuteTime": {
     "end_time": "2025-07-29T09:48:33.290432Z",
     "start_time": "2025-07-29T09:48:33.282936Z"
    }
   },
   "cell_type": "code",
   "source": "pub_time,update_time",
   "id": "9da0bb5bb4fba903",
   "outputs": [
    {
     "data": {
      "text/plain": [
       "('发布于 2025年07月29日 08:42', '更新于 2025年07月29日 17:06')"
      ]
     },
     "execution_count": 13,
     "metadata": {},
     "output_type": "execute_result"
    }
   ],
   "execution_count": 13
  },
  {
   "metadata": {},
   "cell_type": "code",
   "outputs": [],
   "execution_count": null,
   "source": "",
   "id": "bf28830b4c552942"
  },
  {
   "metadata": {},
   "cell_type": "markdown",
   "source": "# Test",
   "id": "4e78ebdd1acefdf4"
  },
  {
   "metadata": {
    "ExecuteTime": {
     "end_time": "2025-07-31T03:53:38.564759Z",
     "start_time": "2025-07-31T03:53:38.545970Z"
    }
   },
   "cell_type": "code",
   "source": "import re",
   "id": "31f16ea51b305572",
   "outputs": [],
   "execution_count": 1
  },
  {
   "metadata": {
    "ExecuteTime": {
     "end_time": "2025-07-31T06:05:15.393762Z",
     "start_time": "2025-07-31T06:05:15.381345Z"
    }
   },
   "cell_type": "code",
   "source": [
    "s = '''\n",
    "<h4><a href=\"https://china.caixin.com/2025-07-31/102347095.html\">海南落马高官倪强被罢免全国人大代表</a>\n",
    "'''\n",
    "# s = s.strip()\n",
    "pat = r'/\\d{4}-\\d{2}-\\d{2}/\\d+\\.html'"
   ],
   "id": "9d3d825abfe716ab",
   "outputs": [],
   "execution_count": 30
  },
  {
   "metadata": {
    "ExecuteTime": {
     "end_time": "2025-07-31T06:05:25.002832Z",
     "start_time": "2025-07-31T06:05:24.997145Z"
    }
   },
   "cell_type": "code",
   "source": [
    "res = re.search(pat, s)\n",
    "print(res.group())"
   ],
   "id": "cac2e37f2d2caa74",
   "outputs": [
    {
     "name": "stdout",
     "output_type": "stream",
     "text": [
      "/2025-07-31/102347095.html\n"
     ]
    }
   ],
   "execution_count": 32
  },
  {
   "metadata": {},
   "cell_type": "code",
   "outputs": [],
   "execution_count": null,
   "source": [
    "import pandas as pd\n",
    "pd.DataFrame([{'a': 1, 'b': 2}, {'a': 3, 'b': 4}])"
   ],
   "id": "7e97e22bf80907f8"
  },
  {
   "metadata": {
    "ExecuteTime": {
     "end_time": "2025-08-01T06:41:43.802260Z",
     "start_time": "2025-08-01T06:41:43.789240Z"
    }
   },
   "cell_type": "code",
   "source": [
    "import urllib.request\n",
    "import os\n",
    "from urllib.parse import urlparse"
   ],
   "id": "78ca023a82e46e93",
   "outputs": [],
   "execution_count": 2
  },
  {
   "metadata": {
    "ExecuteTime": {
     "end_time": "2025-08-01T06:41:44.488522Z",
     "start_time": "2025-08-01T06:41:44.484265Z"
    }
   },
   "cell_type": "code",
   "source": "url = \"https://ts1.tc.mm.bing.net/th/id/R-C.d2b3a4779fd2b9af70103d485bc8b664?rik=Xm7zutXMpsp91Q&riu=http%3a%2f%2fup.deskcity.org%2fpic_source%2fd2%2fb3%2fa4%2fd2b3a4779fd2b9af70103d485bc8b664.jpg&ehk=%2fh%2fipXq8Ihn81SbQdkphnzweLFLUGfD1%2fXncDcbLgRE%3d&risl=&pid=ImgRaw&r=0\"",
   "id": "c2b4a6e2146d81f4",
   "outputs": [],
   "execution_count": 3
  },
  {
   "metadata": {
    "ExecuteTime": {
     "end_time": "2025-08-01T06:52:21.138422Z",
     "start_time": "2025-08-01T06:52:21.129705Z"
    }
   },
   "cell_type": "code",
   "source": "os.makedirs('tmp',exist_ok=True)",
   "id": "ae405defd663361b",
   "outputs": [],
   "execution_count": 20
  },
  {
   "metadata": {
    "ExecuteTime": {
     "end_time": "2025-08-01T06:52:33.829739Z",
     "start_time": "2025-08-01T06:52:33.814111Z"
    }
   },
   "cell_type": "code",
   "source": [
    "# 查看当前路径\n",
    "print(os.getcwd())"
   ],
   "id": "648e7b9c884d3a12",
   "outputs": [
    {
     "name": "stdout",
     "output_type": "stream",
     "text": [
      "D:\\Codes\\py\\Agent\n"
     ]
    }
   ],
   "execution_count": 21
  },
  {
   "metadata": {
    "ExecuteTime": {
     "end_time": "2025-08-01T06:52:35.723046Z",
     "start_time": "2025-08-01T06:52:35.709689Z"
    }
   },
   "cell_type": "code",
   "source": [
    "parsed_url = urlparse(url)\n",
    "img_base_name = \"img\"\n",
    "num = 0\n",
    "filename = f\"{img_base_name}_{num}.jpg\"\n",
    "num+=1"
   ],
   "id": "ae54dbb8a22f52ca",
   "outputs": [],
   "execution_count": 22
  },
  {
   "metadata": {
    "ExecuteTime": {
     "end_time": "2025-08-01T06:52:36.177655Z",
     "start_time": "2025-08-01T06:52:36.161906Z"
    }
   },
   "cell_type": "code",
   "source": [
    "file_path = os.path.join('tmp', filename)\n",
    "file_path"
   ],
   "id": "82cb33d55769c458",
   "outputs": [
    {
     "data": {
      "text/plain": [
       "'tmp\\\\img_0.jpg'"
      ]
     },
     "execution_count": 23,
     "metadata": {},
     "output_type": "execute_result"
    }
   ],
   "execution_count": 23
  },
  {
   "metadata": {
    "ExecuteTime": {
     "end_time": "2025-08-01T06:52:39.380645Z",
     "start_time": "2025-08-01T06:52:39.184112Z"
    }
   },
   "cell_type": "code",
   "source": [
    "req = urllib.request.Request(url)\n",
    "with urllib.request.urlopen(req, timeout=30) as response:\n",
    "    with open(file_path, 'wb') as f:\n",
    "        f.write(response.read())\n",
    "\n",
    "print(f\"图片已保存到: {file_path}\")"
   ],
   "id": "702ae462be97fa18",
   "outputs": [
    {
     "name": "stdout",
     "output_type": "stream",
     "text": [
      "图片已保存到: tmp\\img_0.jpg\n"
     ]
    }
   ],
   "execution_count": 24
  },
  {
   "metadata": {},
   "cell_type": "code",
   "outputs": [],
   "execution_count": null,
   "source": "",
   "id": "c0a79e4bb6092d81"
  },
  {
   "metadata": {
    "ExecuteTime": {
     "end_time": "2025-08-07T07:41:57.858851Z",
     "start_time": "2025-08-07T07:41:57.842048Z"
    }
   },
   "cell_type": "code",
   "source": [
    "from typing import TypedDict, List, Dict\n",
    "import re\n",
    "\n",
    "async def func(list) :\n",
    "    text_cap = []\n",
    "    # 优化后的正则表达式\n",
    "    pattern = r'([，。；？！])'  # 只关注指定标点\n",
    "\n",
    "    for item in list:\n",
    "        # 分阶段处理\n",
    "        raw_cap = item['cap']\n",
    "\n",
    "        # 第一步：按标点分割\n",
    "        segments = re.split(pattern, raw_cap)\n",
    "\n",
    "        # 第二步：重组并过滤\n",
    "        sentences = []\n",
    "        current_sentence = \"\"\n",
    "        for seg in segments:\n",
    "            if seg.strip():\n",
    "                # 判断是否是标点符号\n",
    "                if seg in ('，', '。', '；', '？', '！'):\n",
    "                    current_sentence += seg\n",
    "                    # 处理末尾符号\n",
    "                    if seg in ('？', '！'):\n",
    "                        sentences.append(current_sentence)\n",
    "                    else:\n",
    "                        sentences.append(current_sentence[:-1])  # 去掉末尾标点\n",
    "                    current_sentence = \"\"\n",
    "                else:\n",
    "                    current_sentence = seg\n",
    "\n",
    "        # 处理最后残余内容\n",
    "        if current_sentence:\n",
    "            sentences.append(current_sentence)\n",
    "\n",
    "        text_cap.extend(sentences)\n",
    "\n",
    "    return {\"text_cap\": text_cap}"
   ],
   "id": "4a004090305b565f",
   "outputs": [],
   "execution_count": 10
  },
  {
   "metadata": {
    "ExecuteTime": {
     "end_time": "2025-08-07T07:42:38.329372Z",
     "start_time": "2025-08-07T07:42:38.317363Z"
    }
   },
   "cell_type": "code",
   "source": [
    "list = [\n",
    "    {\n",
    "      \"story_name\": \"开场引入\",\n",
    "      \"desc\": \"简约的黑色线条勾勒出一个地球仪，旁边站着一位拿着放大镜的商务人士，背景是淡蓝色。\",\n",
    "      \"cap\": \"你知道吗？注册新加坡公司，可能比你想象中简单得多！而且，它的优势远远超乎你的预期。今天，我就带你一探究竟，看看为什么越来越多的企业家选择在新加坡注册公司。\"\n",
    "    },\n",
    "    {\n",
    "      \"story_name\": \"金融中心介绍\",\n",
    "      \"desc\": \"新加坡城市天际线的剪影，金融区的高楼大厦，中间有一个金色的货币符号。\",\n",
    "      \"cap\": \"首先，新加坡作为亚洲金融中心，拥有发达的金融市场和多元化的金融服务。无论是想拓展国际市场，还是规划税务，新加坡都是一个理想的选择。\"\n",
    "    },\n",
    "    {\n",
    "      \"story_name\": \"低税率政策\",\n",
    "      \"desc\": \"一个简单的税务表格，税率数字被绿色圆圈标记，旁边有一个微笑的表情符号。\",\n",
    "      \"cap\": \"更重要的是，新加坡实行低税率政策，企业所得税率相对较低，尤其是新小型企业，还能享受税收减免的优惠。\"\n",
    "    },\n",
    "    {\n",
    "      \"story_name\": \"双重征税协定\",\n",
    "      \"desc\": \"两只手握手，背景是两个国家的国旗，中间有一个绿色的对勾符号。\",\n",
    "      \"cap\": \"再加上新加坡与许多国家签订了双重征税协定，避免了双重征税的烦恼，真是省心又省钱！\"\n",
    "    }\n",
    "]\n",
    "text_cap = []\n",
    "# 优化后的正则表达式\n",
    "pattern = r'([，。；？！])'  # 只关注指定标点\n",
    "\n",
    "for item in list:\n",
    "    # 分阶段处理\n",
    "    raw_cap = item['cap']\n",
    "\n",
    "    # 第一步：按标点分割\n",
    "    segments = re.split(pattern, raw_cap)\n",
    "\n",
    "    # 第二步：重组并过滤\n",
    "    sentences = []\n",
    "    current_sentence = \"\"\n",
    "    for seg in segments:\n",
    "        if seg.strip():\n",
    "            # 判断是否是标点符号\n",
    "            if seg in ('，', '。', '；', '？', '！'):\n",
    "                current_sentence += seg\n",
    "                # 处理末尾符号\n",
    "                if seg in ('？', '！'):\n",
    "                    sentences.append(current_sentence)\n",
    "                else:\n",
    "                    sentences.append(current_sentence[:-1])  # 去掉末尾标点\n",
    "                current_sentence = \"\"\n",
    "            else:\n",
    "                current_sentence = seg\n",
    "\n",
    "    # 处理最后残余内容\n",
    "    if current_sentence:\n",
    "        sentences.append(current_sentence)\n",
    "\n",
    "    text_cap.extend(sentences)"
   ],
   "id": "59410a326a9a186a",
   "outputs": [],
   "execution_count": 13
  },
  {
   "metadata": {
    "ExecuteTime": {
     "end_time": "2025-08-07T07:42:39.871710Z",
     "start_time": "2025-08-07T07:42:39.855750Z"
    }
   },
   "cell_type": "code",
   "source": "text_cap",
   "id": "d45829782b21bb1e",
   "outputs": [
    {
     "data": {
      "text/plain": [
       "['你知道吗？',\n",
       " '注册新加坡公司',\n",
       " '可能比你想象中简单得多！',\n",
       " '而且',\n",
       " '它的优势远远超乎你的预期',\n",
       " '今天',\n",
       " '我就带你一探究竟',\n",
       " '看看为什么越来越多的企业家选择在新加坡注册公司',\n",
       " '首先',\n",
       " '新加坡作为亚洲金融中心',\n",
       " '拥有发达的金融市场和多元化的金融服务',\n",
       " '无论是想拓展国际市场',\n",
       " '还是规划税务',\n",
       " '新加坡都是一个理想的选择',\n",
       " '更重要的是',\n",
       " '新加坡实行低税率政策',\n",
       " '企业所得税率相对较低',\n",
       " '尤其是新小型企业',\n",
       " '还能享受税收减免的优惠',\n",
       " '再加上新加坡与许多国家签订了双重征税协定',\n",
       " '避免了双重征税的烦恼',\n",
       " '真是省心又省钱！']"
      ]
     },
     "execution_count": 14,
     "metadata": {},
     "output_type": "execute_result"
    }
   ],
   "execution_count": 14
  },
  {
   "metadata": {
    "ExecuteTime": {
     "end_time": "2025-08-07T08:46:42.277742Z",
     "start_time": "2025-08-07T08:46:42.267870Z"
    }
   },
   "cell_type": "code",
   "source": [
    "S = \"你知道吗？注册新加坡公司，可能比你想象中简单得多！而且，它的优势远远超乎你的预期。今天，我就带你一探究竟，看看为什么越来越多的企业家选择在新加坡注册公司。\"\n",
    "s = \"注册新加坡公司\"\n",
    "s in S"
   ],
   "id": "f9ad7a4543dc0474",
   "outputs": [
    {
     "data": {
      "text/plain": [
       "True"
      ]
     },
     "execution_count": 17,
     "metadata": {},
     "output_type": "execute_result"
    }
   ],
   "execution_count": 17
  },
  {
   "metadata": {
    "ExecuteTime": {
     "end_time": "2025-08-07T09:01:45.879080Z",
     "start_time": "2025-08-07T09:01:45.855547Z"
    }
   },
   "cell_type": "code",
   "source": [
    "input_list =[\n",
    "  {\n",
    "      \"story_name\": \"开场引入\",\n",
    "      \"desc\": \"简约的黑色线条勾勒出一个地球仪，旁边站着一位拿着放大镜的商务人士，背景是淡蓝色。\",\n",
    "      \"cap\": \"你知道吗？注册新加坡公司，可能比你想象中简单得多！而且，它的优势远远超乎你的预期。今天，我就带你一探究竟，看看为什么越来越多的企业家选择在新加坡注册公司。\"\n",
    "    },\n",
    "    {\n",
    "      \"story_name\": \"金融中心介绍\",\n",
    "      \"desc\": \"新加坡城市天际线的剪影，金融区的高楼大厦，中间有一个金色的货币符号。\",\n",
    "      \"cap\": \"首先，新加坡作为亚洲金融中心，拥有发达的金融市场和多元化的金融服务。无论是想拓展国际市场，还是规划税务，新加坡都是一个理想的选择。\"\n",
    "    },\n",
    "    {\n",
    "      \"story_name\": \"低税率政策\",\n",
    "      \"desc\": \"一个简单的税务表格，税率数字被绿色圆圈标记，旁边有一个微笑的表情符号。\",\n",
    "      \"cap\": \"更重要的是，新加坡实行低税率政策，企业所得税率相对较低，尤其是新小型企业，还能享受税收减免的优惠。\"\n",
    "    },\n",
    "    {\n",
    "      \"story_name\": \"双重征税协定\",\n",
    "      \"desc\": \"两只手握手，背景是两个国家的国旗，中间有一个绿色的对勾符号。\",\n",
    "      \"cap\": \"再加上新加坡与许多国家签订了双重征税协定，避免了双重征税的烦恼，真是省心又省钱！\"\n",
    "    },\n",
    "    {\n",
    "      \"story_name\": \"注册条件\",\n",
    "      \"desc\": \"一个简单的表格，列出年龄、国籍、董事、地址和秘书等条件，旁边有一个绿色的勾。\",\n",
    "      \"cap\": \"那么，注册新加坡公司到底需要哪些条件呢？其实并不复杂。只要年满18周岁，不限国籍，都可以在新加坡注册公司。不过，董事中至少有一名必须是新加坡本地居民。此外，公司还需要一个本地的注册地址和一名本地秘书，负责处理公司的法律和行政事务。\"\n",
    "    },\n",
    "    {\n",
    "      \"story_name\": \"注册资本\",\n",
    "      \"desc\": \"一个硬币的图标，旁边写着1新币，背景是淡黄色。\",\n",
    "      \"cap\": \"注册资本最低只需1新币，没有上限，而且无需实际到位，是不是很灵活？\"\n",
    "    },\n",
    "    {\n",
    "      \"story_name\": \"注册步骤1\",\n",
    "      \"desc\": \"一个简单的流程图，第一步是命名公司，旁边有一个铅笔和纸张的图标。\",\n",
    "      \"cap\": \"接下来，我们来看看注册的具体步骤。首先，确定公司名称，确保它符合新加坡会计与企业管理局的规定，不能与已有公司重名。\"\n",
    "    },\n",
    "    {\n",
    "      \"story_name\": \"注册步骤2\",\n",
    "      \"desc\": \"三个人物的剪影，分别代表股东、董事和秘书，旁边有一个文件夹的图标。\",\n",
    "      \"cap\": \"然后，确定公司的股东、董事和秘书，准备好公司章程、注册申请表和注册地址证明等文件。\"\n",
    "    },\n",
    "    {\n",
    "      \"story_name\": \"注册步骤3\",\n",
    "      \"desc\": \"一个电脑屏幕的图标，显示在线申请的界面，旁边有一个支付符号。\",\n",
    "      \"cap\": \"接着，通过ACRA的在线系统BizFile+递交注册申请，支付相应费用。\"\n",
    "    },\n",
    "    {\n",
    "      \"story_name\": \"注册成功\",\n",
    "      \"desc\": \"一张证书的图标，旁边有一个银行大楼的剪影。\",\n",
    "      \"cap\": \"一旦注册成功，ACRA会颁发公司注册证书，你就可以为公司开立银行账户，开始日常的财务操作了。\"\n",
    "    },\n",
    "    {\n",
    "      \"story_name\": \"注意事项1\",\n",
    "      \"desc\": \"一个警告符号，旁边写着1000新币，背景是淡红色。\",\n",
    "      \"cap\": \"当然，注册过程中也有一些需要注意的事项。比如，如果注册资本高于1000新币，后期公司转让时需要实缴等额的资金。\"\n",
    "    },\n",
    "    {\n",
    "      \"story_name\": \"注意事项2\",\n",
    "      \"desc\": \"护照、地址证明和银行证明信的图标，排列在一起。\",\n",
    "      \"cap\": \"此外，非居民股东和董事需要提供额外的文件，如护照、地址证明和银行证明信。这些细节都需要提前准备好，以免耽误注册进程。\"\n",
    "    },\n",
    "    {\n",
    "      \"story_name\": \"总结优势\",\n",
    "      \"desc\": \"一个上升的箭头，旁边有地球和货币符号，背景是淡绿色。\",\n",
    "      \"cap\": \"总的来说，注册新加坡公司不仅流程简单，而且优势明显。无论是提升企业形象，还是拓展国际市场，新加坡都能为你提供强大的支持。\"\n",
    "    },\n",
    "    {\n",
    "      \"story_name\": \"咨询服务\",\n",
    "      \"desc\": \"一个电话和对话框的图标，旁边有一个团队的剪影。\",\n",
    "      \"cap\": \"如果你对新加坡公司注册、企业年审、挂名董事、银行开户、财税申报等流程有疑问，欢迎随时咨询我们。我们拥有丰富的经验和专业的团队，能够为你提供一站式服务，助你顺利在新加坡开展业务。\"\n",
    "    },\n",
    "    {\n",
    "      \"story_name\": \"结束语\",\n",
    "      \"desc\": \"点赞、关注和分享的社交媒体图标，排列在一起。\",\n",
    "      \"cap\": \"最后，如果你觉得这些信息对你有帮助，别忘了点赞、关注，并分享给更多有需要的朋友。我们下期再见！\"\n",
    "    }\n",
    "]\n",
    "\n",
    "text_cap = [\n",
    "    \"你知道吗？\",\n",
    "    \"注册新加坡公司\",\n",
    "    \"可能比你想象中简单得多！\",\n",
    "    \"而且\",\n",
    "    \"它的优势远远超乎你的预期\",\n",
    "    \"今天\",\n",
    "    \"我就带你一探究竟\",\n",
    "    \"看看为什么越来越多的企业家选择在新加坡注册公司\",\n",
    "    \"首先\",\n",
    "    \"新加坡作为亚洲金融中心\",\n",
    "    \"拥有发达的金融市场和多元化的金融服务\",\n",
    "    \"无论是想拓展国际市场\",\n",
    "    \"还是规划税务\",\n",
    "    \"新加坡都是一个理想的选择\",\n",
    "    \"更重要的是\",\n",
    "    \"新加坡实行低税率政策\",\n",
    "    \"企业所得税率相对较低\",\n",
    "    \"尤其是新小型企业\",\n",
    "    \"还能享受税收减免的优惠\",\n",
    "    \"再加上新加坡与许多国家签订了双重征税协定\",\n",
    "    \"避免了双重征税的烦恼\",\n",
    "    \"真是省心又省钱！\",\n",
    "    \"那么\",\n",
    "    \"注册新加坡公司到底需要哪些条件呢？\",\n",
    "    \"其实并不复杂\",\n",
    "    \"只要年满18周岁\",\n",
    "    \"不限国籍\",\n",
    "    \"都可以在新加坡注册公司\",\n",
    "    \"不过\",\n",
    "    \"董事中至少有一名必须是新加坡本地居民\",\n",
    "    \"此外\",\n",
    "    \"公司还需要一个本地的注册地址和一名本地秘书\",\n",
    "    \"负责处理公司的法律和行政事务\",\n",
    "    \"注册资本最低只需1新币\",\n",
    "    \"没有上限\",\n",
    "    \"而且无需实际到位\",\n",
    "    \"是不是很灵活？\",\n",
    "    \"接下来\",\n",
    "    \"我们来看看注册的具体步骤\",\n",
    "    \"首先\",\n",
    "    \"确定公司名称\",\n",
    "    \"确保它符合新加坡会计与企业管理局的规定\",\n",
    "    \"不能与已有公司重名\",\n",
    "    \"然后\",\n",
    "    \"确定公司的股东、董事和秘书\",\n",
    "    \"准备好公司章程、注册申请表和注册地址证明等文件\",\n",
    "    \"接着\",\n",
    "    \"通过ACRA的在线系统BizFile+递交注册申请\",\n",
    "    \"支付相应费用\",\n",
    "    \"一旦注册成功\",\n",
    "    \"ACRA会颁发公司注册证书\",\n",
    "    \"你就可以为公司开立银行账户\",\n",
    "    \"开始日常的财务操作了\",\n",
    "    \"当然\",\n",
    "    \"注册过程中也有一些需要注意的事项\",\n",
    "    \"比如\",\n",
    "    \"如果注册资本高于1000新币\",\n",
    "    \"后期公司转让时需要实缴等额的资金\",\n",
    "    \"此外\",\n",
    "    \"非居民股东和董事需要提供额外的文件\",\n",
    "    \"如护照、地址证明和银行证明信\",\n",
    "    \"这些细节都需要提前准备好\",\n",
    "    \"以免耽误注册进程\",\n",
    "    \"总的来说\",\n",
    "    \"注册新加坡公司不仅流程简单\",\n",
    "    \"而且优势明显\",\n",
    "    \"无论是提升企业形象\",\n",
    "    \"还是拓展国际市场\",\n",
    "    \"新加坡都能为你提供强大的支持\",\n",
    "    \"如果你对新加坡公司注册、企业年审、挂名董事、银行开户、财税申报等流程有疑问\",\n",
    "    \"欢迎随时咨询我们\",\n",
    "    \"我们拥有丰富的经验和专业的团队\",\n",
    "    \"能够为你提供一站式服务\",\n",
    "    \"助你顺利在新加坡开展业务\",\n",
    "    \"最后\",\n",
    "    \"如果你觉得这些信息对你有帮助\",\n",
    "    \"别忘了点赞、关注\",\n",
    "    \"并分享给更多有需要的朋友\",\n",
    "    \"我们下期再见！\"\n",
    "  ]\n",
    "timelines = [\n",
    "    {\n",
    "      \"end\": 888000,\n",
    "      \"start\": 0\n",
    "    },\n",
    "    {\n",
    "      \"end\": 2640000,\n",
    "      \"start\": 888000\n",
    "    },\n",
    "    {\n",
    "      \"end\": 4896000,\n",
    "      \"start\": 2640000\n",
    "    },\n",
    "    {\n",
    "      \"end\": 5832000,\n",
    "      \"start\": 4896000\n",
    "    },\n",
    "    {\n",
    "      \"end\": 8280000,\n",
    "      \"start\": 5832000\n",
    "    },\n",
    "    {\n",
    "      \"end\": 9024000,\n",
    "      \"start\": 8280000\n",
    "    },\n",
    "    {\n",
    "      \"end\": 10824000,\n",
    "      \"start\": 9024000\n",
    "    },\n",
    "    {\n",
    "      \"end\": 15288000,\n",
    "      \"start\": 10824000\n",
    "    },\n",
    "    {\n",
    "      \"end\": 16080000,\n",
    "      \"start\": 15288000\n",
    "    },\n",
    "    {\n",
    "      \"end\": 18576000,\n",
    "      \"start\": 16080000\n",
    "    },\n",
    "    {\n",
    "      \"end\": 22080000,\n",
    "      \"start\": 18576000\n",
    "    },\n",
    "    {\n",
    "      \"end\": 24360000,\n",
    "      \"start\": 22080000\n",
    "    },\n",
    "    {\n",
    "      \"end\": 25848000,\n",
    "      \"start\": 24360000\n",
    "    },\n",
    "    {\n",
    "      \"end\": 28320000,\n",
    "      \"start\": 25848000\n",
    "    },\n",
    "    {\n",
    "      \"end\": 29520000,\n",
    "      \"start\": 28320000\n",
    "    },\n",
    "    {\n",
    "      \"end\": 31776000,\n",
    "      \"start\": 29520000\n",
    "    },\n",
    "    {\n",
    "      \"end\": 34104000,\n",
    "      \"start\": 31776000\n",
    "    },\n",
    "    {\n",
    "      \"end\": 35952000,\n",
    "      \"start\": 34104000\n",
    "    },\n",
    "    {\n",
    "      \"end\": 38256000,\n",
    "      \"start\": 35952000\n",
    "    },\n",
    "    {\n",
    "      \"end\": 42720000,\n",
    "      \"start\": 38256000\n",
    "    },\n",
    "    {\n",
    "      \"end\": 44832000,\n",
    "      \"start\": 42720000\n",
    "    },\n",
    "    {\n",
    "      \"end\": 46680000,\n",
    "      \"start\": 44832000\n",
    "    },\n",
    "    {\n",
    "      \"end\": 47328000,\n",
    "      \"start\": 46680000\n",
    "    },\n",
    "    {\n",
    "      \"end\": 50664000,\n",
    "      \"start\": 47328000\n",
    "    },\n",
    "    {\n",
    "      \"end\": 52272000,\n",
    "      \"start\": 50664000\n",
    "    },\n",
    "    {\n",
    "      \"end\": 54048000,\n",
    "      \"start\": 52272000\n",
    "    },\n",
    "    {\n",
    "      \"end\": 55320000,\n",
    "      \"start\": 54048000\n",
    "    },\n",
    "    {\n",
    "      \"end\": 57672000,\n",
    "      \"start\": 55320000\n",
    "    },\n",
    "    {\n",
    "      \"end\": 58344000,\n",
    "      \"start\": 57672000\n",
    "    },\n",
    "    {\n",
    "      \"end\": 62400000,\n",
    "      \"start\": 58344000\n",
    "    },\n",
    "    {\n",
    "      \"end\": 63120000,\n",
    "      \"start\": 62400000\n",
    "    },\n",
    "    {\n",
    "      \"end\": 67176000,\n",
    "      \"start\": 63120000\n",
    "    },\n",
    "    {\n",
    "      \"end\": 70152000,\n",
    "      \"start\": 67176000\n",
    "    },\n",
    "    {\n",
    "      \"end\": 72672000,\n",
    "      \"start\": 70152000\n",
    "    },\n",
    "    {\n",
    "      \"end\": 73800000,\n",
    "      \"start\": 72672000\n",
    "    },\n",
    "    {\n",
    "      \"end\": 75648000,\n",
    "      \"start\": 73800000\n",
    "    },\n",
    "    {\n",
    "      \"end\": 77064000,\n",
    "      \"start\": 75648000\n",
    "    },\n",
    "    {\n",
    "      \"end\": 78024000,\n",
    "      \"start\": 77064000\n",
    "    },\n",
    "    {\n",
    "      \"end\": 80304000,\n",
    "      \"start\": 78024000\n",
    "    },\n",
    "    {\n",
    "      \"end\": 81096000,\n",
    "      \"start\": 80304000\n",
    "    },\n",
    "    {\n",
    "      \"end\": 82560000,\n",
    "      \"start\": 81096000\n",
    "    },\n",
    "    {\n",
    "      \"end\": 86304000,\n",
    "      \"start\": 82560000\n",
    "    },\n",
    "    {\n",
    "      \"end\": 88224000,\n",
    "      \"start\": 86304000\n",
    "    },\n",
    "    {\n",
    "      \"end\": 89064000,\n",
    "      \"start\": 88224000\n",
    "    },\n",
    "    {\n",
    "      \"end\": 91872000,\n",
    "      \"start\": 89064000\n",
    "    },\n",
    "    {\n",
    "      \"end\": 96840000,\n",
    "      \"start\": 91872000\n",
    "    },\n",
    "    {\n",
    "      \"end\": 97584000,\n",
    "      \"start\": 96840000\n",
    "    },\n",
    "    {\n",
    "      \"end\": 101760000,\n",
    "      \"start\": 97584000\n",
    "    },\n",
    "    {\n",
    "      \"end\": 103224000,\n",
    "      \"start\": 101760000\n",
    "    },\n",
    "    {\n",
    "      \"end\": 104712000,\n",
    "      \"start\": 103224000\n",
    "    },\n",
    "    {\n",
    "      \"end\": 107208000,\n",
    "      \"start\": 104712000\n",
    "    },\n",
    "    {\n",
    "      \"end\": 109776000,\n",
    "      \"start\": 107208000\n",
    "    },\n",
    "    {\n",
    "      \"end\": 111912000,\n",
    "      \"start\": 109776000\n",
    "    },\n",
    "    {\n",
    "      \"end\": 112656000,\n",
    "      \"start\": 111912000\n",
    "    },\n",
    "    {\n",
    "      \"end\": 115560000,\n",
    "      \"start\": 112656000\n",
    "    },\n",
    "    {\n",
    "      \"end\": 116280000,\n",
    "      \"start\": 115560000\n",
    "    },\n",
    "    {\n",
    "      \"end\": 118800000,\n",
    "      \"start\": 116280000\n",
    "    },\n",
    "    {\n",
    "      \"end\": 122112000,\n",
    "      \"start\": 118800000\n",
    "    },\n",
    "    {\n",
    "      \"end\": 122832000,\n",
    "      \"start\": 122112000\n",
    "    },\n",
    "    {\n",
    "      \"end\": 126312000,\n",
    "      \"start\": 122832000\n",
    "    },\n",
    "    {\n",
    "      \"end\": 129456000,\n",
    "      \"start\": 126312000\n",
    "    },\n",
    "    {\n",
    "      \"end\": 132096000,\n",
    "      \"start\": 129456000\n",
    "    },\n",
    "    {\n",
    "      \"end\": 133920000,\n",
    "      \"start\": 132096000\n",
    "    },\n",
    "    {\n",
    "      \"end\": 135000000,\n",
    "      \"start\": 133920000\n",
    "    },\n",
    "    {\n",
    "      \"end\": 137952000,\n",
    "      \"start\": 135000000\n",
    "    },\n",
    "    {\n",
    "      \"end\": 139728000,\n",
    "      \"start\": 137952000\n",
    "    },\n",
    "    {\n",
    "      \"end\": 141744000,\n",
    "      \"start\": 139728000\n",
    "    },\n",
    "    {\n",
    "      \"end\": 143664000,\n",
    "      \"start\": 141744000\n",
    "    },\n",
    "    {\n",
    "      \"end\": 146592000,\n",
    "      \"start\": 143664000\n",
    "    },\n",
    "    {\n",
    "      \"end\": 154224000,\n",
    "      \"start\": 146592000\n",
    "    },\n",
    "    {\n",
    "      \"end\": 155976000,\n",
    "      \"start\": 154224000\n",
    "    },\n",
    "    {\n",
    "      \"end\": 158736000,\n",
    "      \"start\": 155976000\n",
    "    },\n",
    "    {\n",
    "      \"end\": 160896000,\n",
    "      \"start\": 158736000\n",
    "    },\n",
    "    {\n",
    "      \"end\": 163464000,\n",
    "      \"start\": 160896000\n",
    "    },\n",
    "    {\n",
    "      \"end\": 164304000,\n",
    "      \"start\": 163464000\n",
    "    },\n",
    "    {\n",
    "      \"end\": 166896000,\n",
    "      \"start\": 164304000\n",
    "    },\n",
    "    {\n",
    "      \"end\": 168816000,\n",
    "      \"start\": 166896000\n",
    "    },\n",
    "    {\n",
    "      \"end\": 171120000,\n",
    "      \"start\": 168816000\n",
    "    },\n",
    "    {\n",
    "      \"end\": 172416000,\n",
    "      \"start\": 171120000\n",
    "    }\n",
    "  ]\n",
    "pic_timelines = []"
   ],
   "id": "701fac9645b41195",
   "outputs": [],
   "execution_count": 18
  },
  {
   "metadata": {
    "ExecuteTime": {
     "end_time": "2025-08-07T09:01:47.620238Z",
     "start_time": "2025-08-07T09:01:47.603854Z"
    }
   },
   "cell_type": "code",
   "source": [
    "l,L = len(input_list),len(text_cap)\n",
    "start,end,idx = 0,0,0\n",
    "for i in range(l):\n",
    "    while idx < L:\n",
    "        if text_cap[idx] in input_list[i]['cap']:\n",
    "            end = timelines[idx]['end']\n",
    "            idx += 1\n",
    "        else:\n",
    "            break\n",
    "\n",
    "    pic_timelines.append({\n",
    "        \"start\":start,\n",
    "        \"end\":end\n",
    "    })\n",
    "    start = end\n",
    "pic_timelines"
   ],
   "id": "34430a3ee85cbb51",
   "outputs": [
    {
     "data": {
      "text/plain": [
       "[{'start': 0, 'end': 15288000},\n",
       " {'start': 15288000, 'end': 28320000},\n",
       " {'start': 28320000, 'end': 38256000},\n",
       " {'start': 38256000, 'end': 46680000},\n",
       " {'start': 46680000, 'end': 70152000},\n",
       " {'start': 70152000, 'end': 77064000},\n",
       " {'start': 77064000, 'end': 88224000},\n",
       " {'start': 88224000, 'end': 96840000},\n",
       " {'start': 96840000, 'end': 103224000},\n",
       " {'start': 103224000, 'end': 111912000},\n",
       " {'start': 111912000, 'end': 122112000},\n",
       " {'start': 122112000, 'end': 133920000},\n",
       " {'start': 133920000, 'end': 146592000},\n",
       " {'start': 146592000, 'end': 163464000},\n",
       " {'start': 163464000, 'end': 172416000}]"
      ]
     },
     "execution_count": 19,
     "metadata": {},
     "output_type": "execute_result"
    }
   ],
   "execution_count": 19
  },
  {
   "metadata": {
    "ExecuteTime": {
     "end_time": "2025-08-13T09:21:43.235585Z",
     "start_time": "2025-08-13T09:21:43.213162Z"
    }
   },
   "cell_type": "code",
   "source": [
    "import tempfile\n",
    "tempfile.gettempdir()"
   ],
   "id": "7a2963fb94f1442e",
   "outputs": [
    {
     "data": {
      "text/plain": [
       "'C:\\\\Users\\\\EDY\\\\AppData\\\\Local\\\\Temp'"
      ]
     },
     "execution_count": 1,
     "metadata": {},
     "output_type": "execute_result"
    }
   ],
   "execution_count": 1
  },
  {
   "metadata": {},
   "cell_type": "code",
   "outputs": [],
   "execution_count": null,
   "source": "",
   "id": "af5f5ba4a0f67000"
  },
  {
   "metadata": {},
   "cell_type": "code",
   "outputs": [],
   "execution_count": null,
   "source": "",
   "id": "a7c36ec0cf4547ec"
  }
 ],
 "metadata": {
  "kernelspec": {
   "display_name": "python310",
   "language": "python",
   "name": "python3"
  },
  "language_info": {
   "codemirror_mode": {
    "name": "ipython",
    "version": 3
   },
   "file_extension": ".py",
   "mimetype": "text/x-python",
   "name": "python",
   "nbconvert_exporter": "python",
   "pygments_lexer": "ipython3",
   "version": "3.10.18"
  }
 },
 "nbformat": 4,
 "nbformat_minor": 5
}
