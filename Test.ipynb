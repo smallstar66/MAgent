{
 "cells": [
  {
   "metadata": {},
   "cell_type": "markdown",
   "source": [
    "LANGSMITH_API_KEY : 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\n",
    "\n",
    "TOGETHER_API_KEY : 2dde51635fbb84097198ddb134f5b04d580a467bc973e56ee9b340759336cb97\n",
    "\n"
   ],
   "id": "9fab0e2ca32e96a9"
  },
  {
   "metadata": {},
   "cell_type": "code",
   "outputs": [],
   "execution_count": null,
   "source": [
    "import os\n",
    "\n",
    "os.environ[\"LANGCHAIN_TRACING_V2\"] = \"true\" # 启用 LangChain V2 跟踪，可以在 https://smith.langchain.com/中查看跟踪数据\n",
    "os.environ[\"TOGETHER_API_KEY\"] = '2dde51635fbb84097198ddb134f5b04d580a467bc973e56ee9b340759336cb97' # 模型api key\n",
    "os.environ[\"LANGSMITH_API_KEY\"] = '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' # langsmith api key\n",
    "# os.environ[\"OPENAI_API_KEY\"] = ''\n"
   ],
   "id": "b2b544527d822be0"
  },
  {
   "metadata": {},
   "cell_type": "code",
   "outputs": [],
   "execution_count": null,
   "source": [
    "from langchain_openai import ChatOpenAI\n",
    "\n",
    "model = ChatOpenAI(\n",
    "    base_url=\"https://api.together.xyz/v1\",\n",
    "    api_key=os.environ[\"TOGETHER_API_KEY\"],\n",
    "    model=\"mistralai/Mixtral-8x7B-Instruct-v0.1\",\n",
    ")"
   ],
   "id": "ad8c584e990459ed"
  },
  {
   "metadata": {},
   "cell_type": "markdown",
   "source": "# -----------",
   "id": "febc7a8b667f1dee"
  },
  {
   "metadata": {
    "ExecuteTime": {
     "end_time": "2025-07-29T03:15:24.714195Z",
     "start_time": "2025-07-29T03:15:22.845241Z"
    }
   },
   "cell_type": "code",
   "source": [
    "from langchain_core.messages import HumanMessage, SystemMessage\n",
    "\n",
    "messages = [\n",
    "    SystemMessage(content=\"Translate the following from English into Chinese\"),\n",
    "    HumanMessage(content=\"hello world!\"),\n",
    "]\n",
    "\n",
    "result = model.invoke(messages)\n",
    "result"
   ],
   "id": "5643513abaad8a22",
   "outputs": [
    {
     "data": {
      "text/plain": [
       "AIMessage(content=' \"hello world!\" in Chinese is \"你好，世界！\" (nǐ hǎo, shìjiè!)\\n\\nThe Chinese language has many variations and dialects, but the most commonly used written form is Simplified Chinese, which is based on the Mandarin dialect. The characters I provided are Simplified Chinese characters.\\n\\nIn Traditional Chinese, which is used in Taiwan and Hong Kong, the same phrase would be written as \"你好，世界！\" (nǐ hǎo, shìjiè!) with the same pronunciation.\\n\\nI hope this helps! Let me know if you have any other questions.', additional_kwargs={'refusal': None}, response_metadata={'token_usage': {'completion_tokens': 140, 'prompt_tokens': 21, 'total_tokens': 161, 'completion_tokens_details': None, 'prompt_tokens_details': None}, 'model_name': 'mistralai/Mixtral-8x7B-Instruct-v0.1', 'system_fingerprint': None, 'id': 'o4xfthb-62bZhn-96697392cc359e6b', 'service_tier': None, 'finish_reason': 'stop', 'logprobs': None}, id='run--416c9ce7-22f3-4288-8a81-240b3eacf620-0', usage_metadata={'input_tokens': 21, 'output_tokens': 140, 'total_tokens': 161, 'input_token_details': {}, 'output_token_details': {}})"
      ]
     },
     "execution_count": 19,
     "metadata": {},
     "output_type": "execute_result"
    }
   ],
   "execution_count": 19
  },
  {
   "cell_type": "markdown",
   "id": "49e89147",
   "metadata": {},
   "source": [
    "# 结果解析方式\n",
    "- StrOutputParser()：提取字符串\n",
    "- JsonOutputParser()：解析 JSON 输出\n",
    "- .content：获取原始输出内容\n"
   ]
  },
  {
   "cell_type": "code",
   "id": "d7f12754f891ef52",
   "metadata": {
    "ExecuteTime": {
     "end_time": "2025-07-29T02:16:21.180856Z",
     "start_time": "2025-07-29T02:16:21.163790Z"
    }
   },
   "source": [
    "# 方式1 解析器\n",
    "from langchain_core.output_parsers import StrOutputParser\n",
    "\n",
    "parser = StrOutputParser()"
   ],
   "outputs": [],
   "execution_count": 4
  },
  {
   "cell_type": "code",
   "id": "be7909a2bb19ab03",
   "metadata": {
    "ExecuteTime": {
     "end_time": "2025-07-29T02:16:21.816175Z",
     "start_time": "2025-07-29T02:16:21.732970Z"
    }
   },
   "source": [
    "parser.invoke(result)"
   ],
   "outputs": [
    {
     "data": {
      "text/plain": [
       "' \"Hello World!\" in Chinese is \"你好，世界!\" which is pronounced as \"Nǐ hǎo, shìjiè!\" in Mandarin. Here\\'s the breakdown of the sentence:\\n\\n* \"Nǐ\" (你) means \"you\"\\n* \"Hǎo\" (好) means \"good\" or \"hello\" in this context\\n* \"Shìjiè\" (世界) means \"world\"\\n\\nSo, when you put it together, you get \"Hello, World!\" in Chinese.'"
      ]
     },
     "execution_count": 5,
     "metadata": {},
     "output_type": "execute_result"
    }
   ],
   "execution_count": 5
  },
  {
   "cell_type": "code",
   "id": "ce2d468d990e80d8",
   "metadata": {
    "ExecuteTime": {
     "end_time": "2025-07-29T02:16:22.359944Z",
     "start_time": "2025-07-29T02:16:22.349819Z"
    }
   },
   "source": [
    "# 方式2 content属性获取结果str\n",
    "result.content"
   ],
   "outputs": [
    {
     "data": {
      "text/plain": [
       "' \"Hello World!\" in Chinese is \"你好，世界!\" which is pronounced as \"Nǐ hǎo, shìjiè!\" in Mandarin. Here\\'s the breakdown of the sentence:\\n\\n* \"Nǐ\" (你) means \"you\"\\n* \"Hǎo\" (好) means \"good\" or \"hello\" in this context\\n* \"Shìjiè\" (世界) means \"world\"\\n\\nSo, when you put it together, you get \"Hello, World!\" in Chinese.'"
      ]
     },
     "execution_count": 6,
     "metadata": {},
     "output_type": "execute_result"
    }
   ],
   "execution_count": 6
  },
  {
   "cell_type": "code",
   "execution_count": null,
   "id": "6b9a5cf3",
   "metadata": {},
   "outputs": [
    {
     "name": "stdout",
     "output_type": "stream",
     "text": [
      " \"hello world!\" in Chinese is \"你好，世界！\" (nǐ hǎo, shìjiè!)\n",
      "\n",
      "Please note that the tone marks are not displayed correctly in some text editors or devices. The pinyin for the Chinese characters is provided to help with the pronunciation.\n"
     ]
    }
   ],
   "source": [
    "# 管道链接，将模型和解析器链接起来，逐个调用\n",
    "chain = model | parser\n",
    "print(chain.invoke(messages))"
   ]
  },
  {
   "metadata": {},
   "cell_type": "code",
   "outputs": [],
   "execution_count": null,
   "source": [
    "\n",
    "# StrOutputParser()：提取字符串\n",
    "# JsonOutputParser()：解析 JSON 输出\n",
    "# PydanticOutputParser()：转换为结构化数据对象\n",
    "# RetryWithErrorOutputParser()：支持错误重试解析\n",
    "\n",
    "from langchain_core.output_parsers import StrOutputParser, JsonOutputParser, PydanticOutputParser\n",
    "\n",
    "stroutparser, jsonoutparser = StrOutputParser(), JsonOutputParser()\n",
    "\n",
    "print(result.content, end='\\n')\n",
    "print(stroutparser.invoke(result), end='\\n')\n",
    "print(jsonoutparser.invoke(result), end='\\n')\n"
   ],
   "id": "4f9eaa6fd178733b"
  },
  {
   "cell_type": "markdown",
   "id": "5316f81d",
   "metadata": {},
   "source": [
    "# PromptTemplates 示例"
   ]
  },
  {
   "metadata": {
    "ExecuteTime": {
     "end_time": "2025-07-29T02:25:33.360105Z",
     "start_time": "2025-07-29T02:25:33.340070Z"
    }
   },
   "cell_type": "code",
   "source": [
    "from langchain_core.prompts import ChatPromptTemplate\n",
    "\n",
    "system_template = \"将以下内容翻译为{language}，对话采用中文:\"\n",
    "\n",
    "prompt_template = ChatPromptTemplate.from_messages(\n",
    "    [(\"system\", system_template), (\"user\", \"{text}\")]\n",
    ")\n",
    "prompt_template"
   ],
   "id": "970f2bb0712173bd",
   "outputs": [
    {
     "data": {
      "text/plain": [
       "ChatPromptTemplate(input_variables=['language', 'text'], input_types={}, partial_variables={}, messages=[SystemMessagePromptTemplate(prompt=PromptTemplate(input_variables=['language'], input_types={}, partial_variables={}, template='将以下内容翻译为{language}，对话采用中文:'), additional_kwargs={}), HumanMessagePromptTemplate(prompt=PromptTemplate(input_variables=['text'], input_types={}, partial_variables={}, template='{text}'), additional_kwargs={})])"
      ]
     },
     "execution_count": 15,
     "metadata": {},
     "output_type": "execute_result"
    }
   ],
   "execution_count": 15
  },
  {
   "metadata": {
    "ExecuteTime": {
     "end_time": "2025-07-29T02:25:33.834137Z",
     "start_time": "2025-07-29T02:25:33.815331Z"
    }
   },
   "cell_type": "code",
   "source": [
    "prompt_result = prompt_template.format_prompt(text=\"你好，世界！\", language=\"Japanese\")\n",
    "prompt_result"
   ],
   "id": "1351fdbbd2c8bfe8",
   "outputs": [
    {
     "data": {
      "text/plain": [
       "ChatPromptValue(messages=[SystemMessage(content='将以下内容翻译为Japanese，对话采用中文:', additional_kwargs={}, response_metadata={}), HumanMessage(content='你好，世界！', additional_kwargs={}, response_metadata={})])"
      ]
     },
     "execution_count": 16,
     "metadata": {},
     "output_type": "execute_result"
    }
   ],
   "execution_count": 16
  },
  {
   "metadata": {
    "ExecuteTime": {
     "end_time": "2025-07-29T02:25:34.295263Z",
     "start_time": "2025-07-29T02:25:34.277043Z"
    }
   },
   "cell_type": "code",
   "source": "prompt_result.to_messages()",
   "id": "12969a554f846f90",
   "outputs": [
    {
     "data": {
      "text/plain": [
       "[SystemMessage(content='将以下内容翻译为Japanese，对话采用中文:', additional_kwargs={}, response_metadata={}),\n",
       " HumanMessage(content='你好，世界！', additional_kwargs={}, response_metadata={})]"
      ]
     },
     "execution_count": 17,
     "metadata": {},
     "output_type": "execute_result"
    }
   ],
   "execution_count": 17
  },
  {
   "metadata": {
    "ExecuteTime": {
     "end_time": "2025-07-29T02:25:37.829912Z",
     "start_time": "2025-07-29T02:25:34.775209Z"
    }
   },
   "cell_type": "code",
   "source": [
    "chain = prompt_template | model | parser\n",
    "print(chain.invoke({'text': \"你好，世界！\", 'language' : \"Japanese\"}))"
   ],
   "id": "f00b107a57d20198",
   "outputs": [
    {
     "name": "stdout",
     "output_type": "stream",
     "text": [
      " こんにちは、sekai!\n",
      "\n",
      "Note: In Japanese, \"sekai\" means \"world\", but it is a common and grammatically correct way to say \"world\" in this context in Japanese. The word \"sekai\" itself is often used in Japanese greetings, songs, and sayings, similar to how \"world\" is used in the English greeting \"Hello, world!\".\n"
     ]
    }
   ],
   "execution_count": 18
  },
  {
   "metadata": {},
   "cell_type": "markdown",
   "source": "# 聊天机器人",
   "id": "b86738b2af397635"
  },
  {
   "metadata": {
    "ExecuteTime": {
     "end_time": "2025-07-29T03:15:37.476842Z",
     "start_time": "2025-07-29T03:15:36.271819Z"
    }
   },
   "cell_type": "code",
   "source": [
    "from langchain_core.messages import HumanMessage\n",
    "\n",
    "model.invoke([HumanMessage(content=\"Hi! I'm Bob\")]).content"
   ],
   "id": "c2f152f602afd372",
   "outputs": [
    {
     "data": {
      "text/plain": [
       "\" Hello Bob! It's nice to meet you. How can I assist you today? If you have any questions or need help with something, feel free to ask. I'm here to help!\""
      ]
     },
     "execution_count": 21,
     "metadata": {},
     "output_type": "execute_result"
    }
   ],
   "execution_count": 21
  },
  {
   "metadata": {
    "ExecuteTime": {
     "end_time": "2025-07-29T03:15:54.445231Z",
     "start_time": "2025-07-29T03:15:52.676397Z"
    }
   },
   "cell_type": "code",
   "source": "model.invoke([HumanMessage(content=\"What's my name?\")]).content",
   "id": "634bc6cbe9189e31",
   "outputs": [
    {
     "data": {
      "text/plain": [
       "\" I'm unable to determine your name as I don't have any personal data about you, unless you're willing to share it with me. However, I'm here to provide information and answer questions to the best of my ability.\""
      ]
     },
     "execution_count": 22,
     "metadata": {},
     "output_type": "execute_result"
    }
   ],
   "execution_count": 22
  },
  {
   "metadata": {},
   "cell_type": "code",
   "outputs": [],
   "execution_count": null,
   "source": "",
   "id": "d246560630d437ea"
  },
  {
   "metadata": {},
   "cell_type": "code",
   "outputs": [],
   "execution_count": null,
   "source": "",
   "id": "209880ced8bda934"
  },
  {
   "metadata": {},
   "cell_type": "code",
   "outputs": [],
   "execution_count": null,
   "source": "",
   "id": "a5a4fd0b0e11e4b1"
  },
  {
   "metadata": {},
   "cell_type": "code",
   "outputs": [],
   "execution_count": null,
   "source": "",
   "id": "c9149cad6622a53e"
  },
  {
   "metadata": {},
   "cell_type": "code",
   "outputs": [],
   "execution_count": null,
   "source": "",
   "id": "bc8e66e999f2c7cc"
  },
  {
   "metadata": {},
   "cell_type": "markdown",
   "source": "# Test",
   "id": "8de9a736851ad20b"
  },
  {
   "metadata": {
    "ExecuteTime": {
     "end_time": "2025-07-29T09:27:28.098179Z",
     "start_time": "2025-07-29T09:27:28.091007Z"
    }
   },
   "cell_type": "code",
   "source": [
    "l = [\n",
    "  \"\\r\\n\",\n",
    "  \"\\r\\n      \\r\\n          \",\n",
    "  \"\\r\\n      \\r\\n \",\n",
    "  \"\\r\\n      \\r\\n      发布于 2025年07月29日 08:42   更新于 2025年07月29日 17:06\\r\\n      \\r\\n      \",\n",
    "  \"\\r\\n      \\r\\n      \\r\\n      \",\n",
    "  \"\\r\\n      \\r\\n      \",\n",
    "  \"\\r\\n     \"\n",
    "]"
   ],
   "id": "1345dbaf4d44dec3",
   "outputs": [],
   "execution_count": 2
  },
  {
   "metadata": {
    "ExecuteTime": {
     "end_time": "2025-07-29T09:27:28.980867Z",
     "start_time": "2025-07-29T09:27:28.969813Z"
    }
   },
   "cell_type": "code",
   "source": [
    "pub_info = next((t.strip() for t in l if \"发布于\" in t), None)\n",
    "pub_info"
   ],
   "id": "8d9befc2bbfb877f",
   "outputs": [
    {
     "data": {
      "text/plain": [
       "'发布于 2025年07月29日 08:42\\xa0\\xa0\\xa0更新于 2025年07月29日 17:06'"
      ]
     },
     "execution_count": 3,
     "metadata": {},
     "output_type": "execute_result"
    }
   ],
   "execution_count": 3
  },
  {
   "metadata": {
    "ExecuteTime": {
     "end_time": "2025-07-29T09:48:19.324415Z",
     "start_time": "2025-07-29T09:48:19.306467Z"
    }
   },
   "cell_type": "code",
   "source": [
    "import re\n",
    "match = re.search(r\"\\d{4}年\\d{2}月\\d{2}日 \\d{2}:\\d{2}\", pub_info or \"\")\n",
    "match.group()"
   ],
   "id": "f9a88392e317dfdf",
   "outputs": [
    {
     "data": {
      "text/plain": [
       "'2025年07月29日 08:42'"
      ]
     },
     "execution_count": 11,
     "metadata": {},
     "output_type": "execute_result"
    }
   ],
   "execution_count": 11
  },
  {
   "metadata": {
    "ExecuteTime": {
     "end_time": "2025-07-29T09:48:30.216222Z",
     "start_time": "2025-07-29T09:48:30.198466Z"
    }
   },
   "cell_type": "code",
   "source": [
    "import re\n",
    "\n",
    "# 提取发布时间、更新时间（如果有）\n",
    "pub_time = None\n",
    "update_time = None\n",
    "\n",
    "match = re.search(r\"发布于 (\\d{4}年\\d{2}月\\d{2}日 \\d{2}:\\d{2})\", pub_info or \"\")\n",
    "if match:\n",
    "    pub_time = match.group()\n",
    "\n",
    "match = re.search(r\"更新于 (\\d{4}年\\d{2}月\\d{2}日 \\d{2}:\\d{2})\", pub_info or \"\")\n",
    "if match:\n",
    "    update_time = match.group()"
   ],
   "id": "a959e3ea4ba1489f",
   "outputs": [],
   "execution_count": 12
  },
  {
   "metadata": {
    "ExecuteTime": {
     "end_time": "2025-07-29T09:48:33.290432Z",
     "start_time": "2025-07-29T09:48:33.282936Z"
    }
   },
   "cell_type": "code",
   "source": "pub_time,update_time",
   "id": "9da0bb5bb4fba903",
   "outputs": [
    {
     "data": {
      "text/plain": [
       "('发布于 2025年07月29日 08:42', '更新于 2025年07月29日 17:06')"
      ]
     },
     "execution_count": 13,
     "metadata": {},
     "output_type": "execute_result"
    }
   ],
   "execution_count": 13
  },
  {
   "metadata": {},
   "cell_type": "code",
   "outputs": [],
   "execution_count": null,
   "source": "",
   "id": "bf28830b4c552942"
  },
  {
   "metadata": {},
   "cell_type": "markdown",
   "source": "# Test",
   "id": "4e78ebdd1acefdf4"
  },
  {
   "metadata": {
    "ExecuteTime": {
     "end_time": "2025-07-31T03:53:38.564759Z",
     "start_time": "2025-07-31T03:53:38.545970Z"
    }
   },
   "cell_type": "code",
   "source": "import re",
   "id": "31f16ea51b305572",
   "outputs": [],
   "execution_count": 1
  },
  {
   "metadata": {
    "ExecuteTime": {
     "end_time": "2025-07-31T06:05:15.393762Z",
     "start_time": "2025-07-31T06:05:15.381345Z"
    }
   },
   "cell_type": "code",
   "source": [
    "s = '''\n",
    "<h4><a href=\"https://china.caixin.com/2025-07-31/102347095.html\">海南落马高官倪强被罢免全国人大代表</a>\n",
    "'''\n",
    "# s = s.strip()\n",
    "pat = r'/\\d{4}-\\d{2}-\\d{2}/\\d+\\.html'"
   ],
   "id": "9d3d825abfe716ab",
   "outputs": [],
   "execution_count": 30
  },
  {
   "metadata": {
    "ExecuteTime": {
     "end_time": "2025-07-31T06:05:25.002832Z",
     "start_time": "2025-07-31T06:05:24.997145Z"
    }
   },
   "cell_type": "code",
   "source": [
    "res = re.search(pat, s)\n",
    "print(res.group())"
   ],
   "id": "cac2e37f2d2caa74",
   "outputs": [
    {
     "name": "stdout",
     "output_type": "stream",
     "text": [
      "/2025-07-31/102347095.html\n"
     ]
    }
   ],
   "execution_count": 32
  },
  {
   "metadata": {},
   "cell_type": "code",
   "outputs": [],
   "execution_count": null,
   "source": [
    "import pandas as pd\n",
    "pd.DataFrame([{'a': 1, 'b': 2}, {'a': 3, 'b': 4}])"
   ],
   "id": "7e97e22bf80907f8"
  },
  {
   "metadata": {
    "ExecuteTime": {
     "end_time": "2025-08-01T06:41:43.802260Z",
     "start_time": "2025-08-01T06:41:43.789240Z"
    }
   },
   "cell_type": "code",
   "source": [
    "import urllib.request\n",
    "import os\n",
    "from urllib.parse import urlparse"
   ],
   "id": "78ca023a82e46e93",
   "outputs": [],
   "execution_count": 2
  },
  {
   "metadata": {
    "ExecuteTime": {
     "end_time": "2025-08-01T06:41:44.488522Z",
     "start_time": "2025-08-01T06:41:44.484265Z"
    }
   },
   "cell_type": "code",
   "source": "url = \"https://ts1.tc.mm.bing.net/th/id/R-C.d2b3a4779fd2b9af70103d485bc8b664?rik=Xm7zutXMpsp91Q&riu=http%3a%2f%2fup.deskcity.org%2fpic_source%2fd2%2fb3%2fa4%2fd2b3a4779fd2b9af70103d485bc8b664.jpg&ehk=%2fh%2fipXq8Ihn81SbQdkphnzweLFLUGfD1%2fXncDcbLgRE%3d&risl=&pid=ImgRaw&r=0\"",
   "id": "c2b4a6e2146d81f4",
   "outputs": [],
   "execution_count": 3
  },
  {
   "metadata": {
    "ExecuteTime": {
     "end_time": "2025-08-01T06:52:21.138422Z",
     "start_time": "2025-08-01T06:52:21.129705Z"
    }
   },
   "cell_type": "code",
   "source": "os.makedirs('tmp',exist_ok=True)",
   "id": "ae405defd663361b",
   "outputs": [],
   "execution_count": 20
  },
  {
   "metadata": {
    "ExecuteTime": {
     "end_time": "2025-08-01T06:52:33.829739Z",
     "start_time": "2025-08-01T06:52:33.814111Z"
    }
   },
   "cell_type": "code",
   "source": [
    "# 查看当前路径\n",
    "print(os.getcwd())"
   ],
   "id": "648e7b9c884d3a12",
   "outputs": [
    {
     "name": "stdout",
     "output_type": "stream",
     "text": [
      "D:\\Codes\\py\\Agent\n"
     ]
    }
   ],
   "execution_count": 21
  },
  {
   "metadata": {
    "ExecuteTime": {
     "end_time": "2025-08-01T06:52:35.723046Z",
     "start_time": "2025-08-01T06:52:35.709689Z"
    }
   },
   "cell_type": "code",
   "source": [
    "parsed_url = urlparse(url)\n",
    "img_base_name = \"img\"\n",
    "num = 0\n",
    "filename = f\"{img_base_name}_{num}.jpg\"\n",
    "num+=1"
   ],
   "id": "ae54dbb8a22f52ca",
   "outputs": [],
   "execution_count": 22
  },
  {
   "metadata": {
    "ExecuteTime": {
     "end_time": "2025-08-01T06:52:36.177655Z",
     "start_time": "2025-08-01T06:52:36.161906Z"
    }
   },
   "cell_type": "code",
   "source": [
    "file_path = os.path.join('tmp', filename)\n",
    "file_path"
   ],
   "id": "82cb33d55769c458",
   "outputs": [
    {
     "data": {
      "text/plain": [
       "'tmp\\\\img_0.jpg'"
      ]
     },
     "execution_count": 23,
     "metadata": {},
     "output_type": "execute_result"
    }
   ],
   "execution_count": 23
  },
  {
   "metadata": {
    "ExecuteTime": {
     "end_time": "2025-08-01T06:52:39.380645Z",
     "start_time": "2025-08-01T06:52:39.184112Z"
    }
   },
   "cell_type": "code",
   "source": [
    "req = urllib.request.Request(url)\n",
    "with urllib.request.urlopen(req, timeout=30) as response:\n",
    "    with open(file_path, 'wb') as f:\n",
    "        f.write(response.read())\n",
    "\n",
    "print(f\"图片已保存到: {file_path}\")"
   ],
   "id": "702ae462be97fa18",
   "outputs": [
    {
     "name": "stdout",
     "output_type": "stream",
     "text": [
      "图片已保存到: tmp\\img_0.jpg\n"
     ]
    }
   ],
   "execution_count": 24
  },
  {
   "metadata": {},
   "cell_type": "code",
   "outputs": [],
   "execution_count": null,
   "source": "",
   "id": "c0a79e4bb6092d81"
  }
 ],
 "metadata": {
  "kernelspec": {
   "display_name": "python310",
   "language": "python",
   "name": "python3"
  },
  "language_info": {
   "codemirror_mode": {
    "name": "ipython",
    "version": 3
   },
   "file_extension": ".py",
   "mimetype": "text/x-python",
   "name": "python",
   "nbconvert_exporter": "python",
   "pygments_lexer": "ipython3",
   "version": "3.10.18"
  }
 },
 "nbformat": 4,
 "nbformat_minor": 5
}
